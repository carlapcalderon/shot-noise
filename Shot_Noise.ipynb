{
  "nbformat": 4,
  "nbformat_minor": 0,
  "metadata": {
    "colab": {
      "name": "Shot Noise.ipynb",
      "provenance": [],
      "collapsed_sections": [],
      "include_colab_link": true
    },
    "kernelspec": {
      "name": "python3",
      "display_name": "Python 3"
    },
    "language_info": {
      "name": "python"
    }
  },
  "cells": [
    {
      "cell_type": "markdown",
      "metadata": {
        "id": "view-in-github",
        "colab_type": "text"
      },
      "source": [
        "<a href=\"https://colab.research.google.com/github/WhitworthPhysics/shot-noise-carlapcalderon/blob/main/Shot_Noise.ipynb\" target=\"_parent\"><img src=\"https://colab.research.google.com/assets/colab-badge.svg\" alt=\"Open In Colab\"/></a>"
      ]
    },
    {
      "cell_type": "markdown",
      "metadata": {
        "id": "mGNefC1DKqRH"
      },
      "source": [
        "# Install and import libraries"
      ]
    },
    {
      "cell_type": "code",
      "metadata": {
        "id": "puuMDrO3vSQq",
        "colab": {
          "base_uri": "https://localhost:8080/"
        },
        "outputId": "e517ece5-753b-4409-d22f-4777479b3c7e"
      },
      "source": [
        "!pip install whit-phys-util"
      ],
      "execution_count": null,
      "outputs": [
        {
          "output_type": "stream",
          "text": [
            "Requirement already satisfied: whit-phys-util in /usr/local/lib/python3.7/dist-packages (0.2.4)\n",
            "Requirement already satisfied: pydantic>=1.7.3 in /usr/local/lib/python3.7/dist-packages (from whit-phys-util) (1.8.2)\n",
            "Requirement already satisfied: python-dotenv>=0.10.4 in /usr/local/lib/python3.7/dist-packages (from whit-phys-util) (0.17.1)\n",
            "Requirement already satisfied: typing-extensions>=3.7.4.3 in /usr/local/lib/python3.7/dist-packages (from pydantic>=1.7.3->whit-phys-util) (3.7.4.3)\n"
          ],
          "name": "stdout"
        }
      ]
    },
    {
      "cell_type": "code",
      "metadata": {
        "id": "UIJYsJTQKu5G"
      },
      "source": [
        "import numpy as np\n",
        "import pandas as pd\n",
        "import matplotlib.pyplot as plt\n",
        "import whit_phys_util as buc"
      ],
      "execution_count": null,
      "outputs": []
    },
    {
      "cell_type": "markdown",
      "metadata": {
        "id": "ic7Vv5Ygn5BL"
      },
      "source": [
        "#Connect to Github"
      ]
    },
    {
      "cell_type": "code",
      "metadata": {
        "colab": {
          "base_uri": "https://localhost:8080/"
        },
        "id": "Qmfwtc_Yji4h",
        "outputId": "dadcda35-3acd-40fa-b630-77488f41759c"
      },
      "source": [
        "repo = buc.local_repository(\"https://github.com/WhitworthPhysics/shot-noise-carlapcalderon\")"
      ],
      "execution_count": null,
      "outputs": [
        {
          "output_type": "stream",
          "text": [
            "Repository exists at this location. Pulling changes from GitHub.\n"
          ],
          "name": "stdout"
        }
      ]
    },
    {
      "cell_type": "markdown",
      "metadata": {
        "id": "Rc_q8h9Jn-NF"
      },
      "source": [
        "# 1. Experimental Procedure"
      ]
    },
    {
      "cell_type": "markdown",
      "metadata": {
        "id": "nrge0u8Fn8ft"
      },
      "source": [
        "# Equipment and materials\n",
        "\n",
        "| Description | Manufacturer | Model | ID or SN |\n",
        "| ----------- | ------------ | ----- | -------- |\n",
        "| Graphical Multimeter | FLUKE | 867B | 002148 |\n",
        "| Oscilloscope | SIGLENT | SDS 1052DL | SDS100P1151565 |\n",
        "| Noise Fundamentals High and Low Levels | Teach Spin | NF1-A | NF162 | \n",
        "| Coaxial cables with BNC connectors | N/A | N/A | N/A|\n",
        "| Universal Power Supply | Astrodyne | SPU45-210 | 08751776 1351 |\n"
      ]
    },
    {
      "cell_type": "markdown",
      "metadata": {
        "id": "ezeH2CicoNxG"
      },
      "source": [
        "# 2. Data Analysis"
      ]
    },
    {
      "cell_type": "markdown",
      "metadata": {
        "id": "8AWOEhexy5c4"
      },
      "source": [
        "## Brightness Analysis"
      ]
    },
    {
      "cell_type": "code",
      "metadata": {
        "id": "y2wsEXFijJxG"
      },
      "source": [
        "df_bright= pd.read_csv(\"Shot_Noise_Brightness_Dependence.csv\")"
      ],
      "execution_count": null,
      "outputs": []
    },
    {
      "cell_type": "code",
      "metadata": {
        "colab": {
          "base_uri": "https://localhost:8080/",
          "height": 359
        },
        "id": "T36wcWPYjf2b",
        "outputId": "fabd1695-6956-4e46-b3f9-e6ff2a9ee801"
      },
      "source": [
        "Rf = 10000 #ohms\n",
        "G1 = 100\n",
        "G2 = 1008\n",
        "\n",
        "df_bright[\"Average Flow Rate (A)\"] = -df_bright[\"V Monitor (V)\"]/Rf\n",
        "df_bright[\"Mean Square Dev. (A/s)\"] = df_bright[\"V Meter (V)\"]*10/((G1*G2*Rf)**2)\n",
        "df_bright"
      ],
      "execution_count": null,
      "outputs": [
        {
          "output_type": "execute_result",
          "data": {
            "text/html": [
              "<div>\n",
              "<style scoped>\n",
              "    .dataframe tbody tr th:only-of-type {\n",
              "        vertical-align: middle;\n",
              "    }\n",
              "\n",
              "    .dataframe tbody tr th {\n",
              "        vertical-align: top;\n",
              "    }\n",
              "\n",
              "    .dataframe thead th {\n",
              "        text-align: right;\n",
              "    }\n",
              "</style>\n",
              "<table border=\"1\" class=\"dataframe\">\n",
              "  <thead>\n",
              "    <tr style=\"text-align: right;\">\n",
              "      <th></th>\n",
              "      <th>V Monitor (V)</th>\n",
              "      <th>V Meter (V)</th>\n",
              "      <th>Average Flow Rate (A)</th>\n",
              "      <th>Mean Square Dev. (A/s)</th>\n",
              "    </tr>\n",
              "  </thead>\n",
              "  <tbody>\n",
              "    <tr>\n",
              "      <th>0</th>\n",
              "      <td>-0.102</td>\n",
              "      <td>0.068</td>\n",
              "      <td>0.00001</td>\n",
              "      <td>6.692492e-19</td>\n",
              "    </tr>\n",
              "    <tr>\n",
              "      <th>1</th>\n",
              "      <td>-0.201</td>\n",
              "      <td>0.105</td>\n",
              "      <td>0.00002</td>\n",
              "      <td>1.033399e-18</td>\n",
              "    </tr>\n",
              "    <tr>\n",
              "      <th>2</th>\n",
              "      <td>-0.300</td>\n",
              "      <td>0.142</td>\n",
              "      <td>0.00003</td>\n",
              "      <td>1.397550e-18</td>\n",
              "    </tr>\n",
              "    <tr>\n",
              "      <th>3</th>\n",
              "      <td>-0.399</td>\n",
              "      <td>0.180</td>\n",
              "      <td>0.00004</td>\n",
              "      <td>1.771542e-18</td>\n",
              "    </tr>\n",
              "    <tr>\n",
              "      <th>4</th>\n",
              "      <td>-0.500</td>\n",
              "      <td>0.218</td>\n",
              "      <td>0.00005</td>\n",
              "      <td>2.145534e-18</td>\n",
              "    </tr>\n",
              "    <tr>\n",
              "      <th>5</th>\n",
              "      <td>-0.600</td>\n",
              "      <td>0.257</td>\n",
              "      <td>0.00006</td>\n",
              "      <td>2.529368e-18</td>\n",
              "    </tr>\n",
              "    <tr>\n",
              "      <th>6</th>\n",
              "      <td>-0.700</td>\n",
              "      <td>0.295</td>\n",
              "      <td>0.00007</td>\n",
              "      <td>2.903360e-18</td>\n",
              "    </tr>\n",
              "    <tr>\n",
              "      <th>7</th>\n",
              "      <td>-0.801</td>\n",
              "      <td>0.335</td>\n",
              "      <td>0.00008</td>\n",
              "      <td>3.297036e-18</td>\n",
              "    </tr>\n",
              "    <tr>\n",
              "      <th>8</th>\n",
              "      <td>-0.900</td>\n",
              "      <td>0.373</td>\n",
              "      <td>0.00009</td>\n",
              "      <td>3.671029e-18</td>\n",
              "    </tr>\n",
              "    <tr>\n",
              "      <th>9</th>\n",
              "      <td>-1.000</td>\n",
              "      <td>0.412</td>\n",
              "      <td>0.00010</td>\n",
              "      <td>4.054863e-18</td>\n",
              "    </tr>\n",
              "  </tbody>\n",
              "</table>\n",
              "</div>"
            ],
            "text/plain": [
              "   V Monitor (V)  V Meter (V)  Average Flow Rate (A)  Mean Square Dev. (A/s)\n",
              "0         -0.102        0.068                0.00001            6.692492e-19\n",
              "1         -0.201        0.105                0.00002            1.033399e-18\n",
              "2         -0.300        0.142                0.00003            1.397550e-18\n",
              "3         -0.399        0.180                0.00004            1.771542e-18\n",
              "4         -0.500        0.218                0.00005            2.145534e-18\n",
              "5         -0.600        0.257                0.00006            2.529368e-18\n",
              "6         -0.700        0.295                0.00007            2.903360e-18\n",
              "7         -0.801        0.335                0.00008            3.297036e-18\n",
              "8         -0.900        0.373                0.00009            3.671029e-18\n",
              "9         -1.000        0.412                0.00010            4.054863e-18"
            ]
          },
          "metadata": {
            "tags": []
          },
          "execution_count": 17
        }
      ]
    },
    {
      "cell_type": "code",
      "metadata": {
        "id": "7f5Dbn7to54v"
      },
      "source": [
        "fitTable, fitFunc = buc.prettyPolyFit( df_bright['Average Flow Rate (A)'], df_bright['Mean Square Dev. (A/s)'])#Find best fit curve and parameters"
      ],
      "execution_count": null,
      "outputs": []
    },
    {
      "cell_type": "code",
      "metadata": {
        "colab": {
          "base_uri": "https://localhost:8080/",
          "height": 290
        },
        "id": "7OD18286l7Ww",
        "outputId": "f38edbf1-759e-4822-fa4f-7f80f1ddeec5"
      },
      "source": [
        "fig1, ax = plt.subplots() \n",
        "ax.plot(df_bright['Average Flow Rate (A)'], df_bright['Mean Square Dev. (A/s)'], 'o')\n",
        "t_fit = np.linspace(0,10,2)\n",
        "ax.plot(t_fit, fitFunc(t_fit))\n",
        "ax.set_xlabel(\"Average Flow Rate (A)\");\n",
        "ax.set_ylabel(\"Mean Square Dev. Current\");\n",
        "ax.set_xlim(0.0000005, 0.00011)\n",
        "ax.set_ylim(6.5e-19, 4.5e-18);"
      ],
      "execution_count": null,
      "outputs": [
        {
          "output_type": "display_data",
          "data": {
            "image/png": "[encoded data removed]",
            "text/plain": [
              "<Figure size 432x288 with 1 Axes>"
            ]
          },
          "metadata": {
            "tags": [],
            "needs_background": "light"
          }
        }
      ]
    },
    {
      "cell_type": "code",
      "metadata": {
        "colab": {
          "base_uri": "https://localhost:8080/",
          "height": 111
        },
        "id": "S9FL006toptJ",
        "outputId": "6b7ed425-0cf0-4264-9713-ba76ad3ce739"
      },
      "source": [
        "fitTable"
      ],
      "execution_count": null,
      "outputs": [
        {
          "output_type": "execute_result",
          "data": {
            "text/html": [
              "<div>\n",
              "<style scoped>\n",
              "    .dataframe tbody tr th:only-of-type {\n",
              "        vertical-align: middle;\n",
              "    }\n",
              "\n",
              "    .dataframe tbody tr th {\n",
              "        vertical-align: top;\n",
              "    }\n",
              "\n",
              "    .dataframe thead th {\n",
              "        text-align: right;\n",
              "    }\n",
              "</style>\n",
              "<table border=\"1\" class=\"dataframe\">\n",
              "  <thead>\n",
              "    <tr style=\"text-align: right;\">\n",
              "      <th></th>\n",
              "      <th>slope</th>\n",
              "      <th>intercept</th>\n",
              "    </tr>\n",
              "  </thead>\n",
              "  <tbody>\n",
              "    <tr>\n",
              "      <th>value</th>\n",
              "      <td>3.774280e-14</td>\n",
              "      <td>2.703067e-19</td>\n",
              "    </tr>\n",
              "    <tr>\n",
              "      <th>uncertainty</th>\n",
              "      <td>1.983348e-16</td>\n",
              "      <td>1.230892e-20</td>\n",
              "    </tr>\n",
              "  </tbody>\n",
              "</table>\n",
              "</div>"
            ],
            "text/plain": [
              "                    slope     intercept\n",
              "value        3.774280e-14  2.703067e-19\n",
              "uncertainty  1.983348e-16  1.230892e-20"
            ]
          },
          "metadata": {
            "tags": []
          },
          "execution_count": 20
        }
      ]
    },
    {
      "cell_type": "code",
      "metadata": {
        "colab": {
          "base_uri": "https://localhost:8080/"
        },
        "id": "znlvqmR-p1m0",
        "outputId": "f74b55af-523f-4d5e-a07b-ca7eabd57614"
      },
      "source": [
        "deltaf = 110961\n",
        "e = fitTable.loc['value','slope']/(2*deltaf)\n",
        "e"
      ],
      "execution_count": null,
      "outputs": [
        {
          "output_type": "execute_result",
          "data": {
            "text/plain": [
              "1.7007237725592301e-19"
            ]
          },
          "metadata": {
            "tags": []
          },
          "execution_count": 24
        }
      ]
    },
    {
      "cell_type": "code",
      "metadata": {
        "colab": {
          "base_uri": "https://localhost:8080/"
        },
        "id": "aggLFGXazHz1",
        "outputId": "169b2127-2f1c-481e-a496-f5df19e855c0"
      },
      "source": [
        "de = fitTable.loc['uncertainty','slope']/(2*deltaf)\n",
        "de"
      ],
      "execution_count": null,
      "outputs": [
        {
          "output_type": "execute_result",
          "data": {
            "text/plain": [
              "8.93713989143855e-22"
            ]
          },
          "metadata": {
            "tags": []
          },
          "execution_count": 25
        }
      ]
    },
    {
      "cell_type": "code",
      "metadata": {
        "colab": {
          "base_uri": "https://localhost:8080/"
        },
        "id": "USpCEHmkqpQF",
        "outputId": "b4429162-6977-4895-facf-200e69553ec3"
      },
      "source": [
        "etrue = 1.6021766*10**-19 #C\n",
        "err = (etrue-e)*100/etrue\n",
        "err"
      ],
      "execution_count": null,
      "outputs": [
        {
          "output_type": "execute_result",
          "data": {
            "text/plain": [
              "-6.150830848436439"
            ]
          },
          "metadata": {
            "tags": []
          },
          "execution_count": 26
        }
      ]
    },
    {
      "cell_type": "markdown",
      "metadata": {
        "id": "jzKl6fMOy06D"
      },
      "source": [
        "## Bandwidth Analysis"
      ]
    },
    {
      "cell_type": "code",
      "metadata": {
        "id": "ny5aCaq2q2Hr"
      },
      "source": [
        "df_band= pd.read_csv(\"Shot_Noise_Bandwidth_Dependence.csv\")"
      ],
      "execution_count": null,
      "outputs": []
    },
    {
      "cell_type": "code",
      "metadata": {
        "id": "UWO44z50sYlr"
      },
      "source": [
        "df_band[\"Mean Square Dev. (A/s)\"] = df_band[\"V Meter (V)\"]*10/((G1*G2*Rf)**2)\n",
        "df_band"
      ],
      "execution_count": null,
      "outputs": []
    },
    {
      "cell_type": "code",
      "metadata": {
        "id": "78BXFA8txCsr"
      },
      "source": [
        "fitTable, fitFunc = buc.prettyPolyFit( df_band['BandWitdth (Hz)'], df_band[\"Mean Square Dev. (A/s)\"])#Find best fit curve and parameters"
      ],
      "execution_count": null,
      "outputs": []
    },
    {
      "cell_type": "code",
      "metadata": {
        "id": "PvXLtlPUskjL"
      },
      "source": [
        "fig1, ax = plt.subplots() \n",
        "ax.plot(df_band['BandWitdth (Hz)'], df_band[\"Mean Square Dev. (A/s)\"], 'o')\n",
        "t_fit = np.linspace(0,120000,2)\n",
        "ax.plot(t_fit, fitFunc(t_fit))\n",
        "ax.set_xlabel(\"BandWidth (Hz)\");\n",
        "ax.set_ylabel(\"Mean Square Dev. (A/s)\");"
      ],
      "execution_count": null,
      "outputs": []
    },
    {
      "cell_type": "code",
      "metadata": {
        "id": "k0D8bc4ftJvj"
      },
      "source": [
        "fitTable"
      ],
      "execution_count": null,
      "outputs": []
    },
    {
      "cell_type": "code",
      "metadata": {
        "id": "3kIBAS5gxVRo"
      },
      "source": [
        "Idc = 100/Rf \n",
        "e = fitTable.loc['value','slope']/(2*Idc)\n",
        "de = fitTable.loc['uncertainty','slope']/(2*Idc)\n",
        "e"
      ],
      "execution_count": null,
      "outputs": []
    },
    {
      "cell_type": "code",
      "metadata": {
        "id": "e1Al_C7Mxrz_"
      },
      "source": [
        "de"
      ],
      "execution_count": null,
      "outputs": []
    },
    {
      "cell_type": "code",
      "metadata": {
        "id": "0ytkEYu1x_rm"
      },
      "source": [
        "err = (etrue-e)*100/etrue\n",
        "err"
      ],
      "execution_count": null,
      "outputs": []
    },
    {
      "cell_type": "markdown",
      "metadata": {
        "id": "RGDBYqmS9coK"
      },
      "source": [
        "# Reflection"
      ]
    },
    {
      "cell_type": "markdown",
      "metadata": {
        "id": "xFy37h1HzT_g"
      },
      "source": [
        "1. Intercept term in the best fit line of brightness dependent data describes the offset of the mean square deviation current within the apparatus. \n",
        "2. The brightness dependence data gave the best result of for e. This approach gave a percent error of 6.2% with a uncertainty of 8.9e-22 for the value of the fundamental charge. Compare to the 15% error of the bandwidth approach with and uncertainty of 1.6e-19. Since the percent error and uncertainty value of the brightness approach are smaller we can conclude that is a better approach. \n",
        "3. The brightness method was the better approach not only because we used actual measured data for the majority of the analysis (rather than the given table used in the bandwidth approach) but also because physics would suggest the same. \n",
        "4. Yes, these results support Eq. 8 since we were able to calculate for the value of fundamental charge using the equation and found a percent error of only 15%.  \n",
        "\n"
      ]
    }
  ]
}